{
 "cells": [
  {
   "cell_type": "code",
   "execution_count": null,
   "metadata": {},
   "outputs": [],
   "source": [
    "# Assignment 4\n",
    "# Relationship between solar radio flux F10.7 and sunspot number\n",
    "# Team 2:\n",
    "#     Ekaterina Karmanova\n",
    "#     Timur Chikichev\n",
    "#     Yaroslav Okunev\n",
    "#     Nikita Mikhailovskiy\n",
    "#\n",
    "# Skoltech, 07.10.2019"
   ]
  },
  {
   "cell_type": "code",
   "execution_count": 1,
   "metadata": {},
   "outputs": [],
   "source": [
    "import numpy as np \n",
    "import matplotlib.pyplot as plt \n",
    "from matplotlib.pyplot import figure"
   ]
  },
  {
   "cell_type": "code",
   "execution_count": 2,
   "metadata": {},
   "outputs": [],
   "source": [
    "#Data parsing from file\n",
    "data = np.loadtxt('data_group2.txt',dtype={'names': ('year', 'month', 'sunspots'),\n",
    "                     'formats': ('i4', 'i4', 'f4')})\n",
    "years = np.array(data['year'])\n",
    "monthes = np.array(data['month'])\n",
    "spots = np.array(data['sunspots'])\n",
    "\n",
    "#Parsing years and monthes to get proper timestamp\n",
    "from datetime import date\n",
    "dates = [date(years[i], monthes[i],int(1)) for i in range (0,years.size)]"
   ]
  },
  {
   "cell_type": "code",
   "execution_count": 6,
   "metadata": {},
   "outputs": [],
   "source": [
    "#Defining smooth function\n",
    "def smooth_13(array):\n",
    "    length = array.size\n",
    "    smooth_arr = np.empty([length])\n",
    "    \n",
    "    #Pre-calculation: mean of the first six entries in dataset\n",
    "    mean_first = 0\n",
    "    for i in range (6):\n",
    "        mean_first += array[i]\n",
    "    mean_first /= 6 \n",
    "\n",
    "    #Pre-calculation: mean of the last six entries in dataset\n",
    "    mean_last = 0\n",
    "    for i in range (6):\n",
    "        mean_last += array[length - i - 1]\n",
    "    mean_last /= 6 \n",
    "\n",
    "    #Calculation for smoothing data in array including 13 monthes\n",
    "    for i in range (0,length):\n",
    "        if i < 6:\n",
    "            smooth_arr[i] = mean_first\n",
    "        elif i > (length - 7):\n",
    "            smooth_arr[i] = mean_last\n",
    "        else:\n",
    "            #last values (less weighted)\n",
    "            smooth_arr[i] = 1/24*array[i-6]\n",
    "            smooth_arr[i] += 1/24*array[i+6]\n",
    "            #middle values, counting the sum\n",
    "            sum_it = 0\n",
    "            for n in range (11):\n",
    "                it = n - 5\n",
    "                sum_it += 1/12*(array[i-it])\n",
    "            smooth_arr[i] += sum_it\n",
    "    return smooth_arr\n",
    "\n",
    "s_spots = smooth_13(spots)"
   ]
  },
  {
   "cell_type": "code",
   "execution_count": null,
   "metadata": {},
   "outputs": [],
   "source": [
    "#Expsmoothing() - exponential smoothing.\n",
    "def Expsmoothing(alfa,z):\n",
    "    array=np.zeros(len(z))\n",
    "    array[0]=10\n",
    "    for i in range(1,len(z)):\n",
    "                array[i]=array[i-1]+alfa*(z[i]-array[i-1])    \n",
    "    return array\n",
    "\n",
    "#Defining alpha by applying indicators results\n",
    "def find_alpha(array):\n",
    "    step = 0.01;\n",
    "    dev_ind_array = np.zeros(1/step)\n",
    "    var_ind_array = np.zeros(1/step)\n",
    "    for c_alpha in range (0.01,1,step):\n",
    "        sm = Expsmoothing(c_alpha, array)\n",
    "        dev_ind = 0\n",
    "        for i in range (len(sm)):\n",
    "            dev_ind += (array[i] - sm[i])**2\n",
    "        dev_ind_array[1/c_alpha]\n",
    "    "
   ]
  }
 ],
 "metadata": {
  "kernelspec": {
   "display_name": "Python 3",
   "language": "python",
   "name": "python3"
  },
  "language_info": {
   "codemirror_mode": {
    "name": "ipython",
    "version": 3
   },
   "file_extension": ".py",
   "mimetype": "text/x-python",
   "name": "python",
   "nbconvert_exporter": "python",
   "pygments_lexer": "ipython3",
   "version": "3.7.4"
  }
 },
 "nbformat": 4,
 "nbformat_minor": 2
}
