{
 "cells": [
  {
   "cell_type": "code",
   "execution_count": 1,
   "metadata": {},
   "outputs": [],
   "source": [
    "import os\n",
    "import sys\n",
    "\n",
    "# import csv\n",
    "import matplotlib.pyplot as plt\n",
    "import pandas as pd\n",
    "import numpy as np"
   ]
  },
  {
   "cell_type": "code",
   "execution_count": 2,
   "metadata": {},
   "outputs": [],
   "source": [
    "filename = './data/txt/data_group1.txt'\n",
    "data = pd.read_csv(filename, delimiter=r'\\s+', names=['year', 'month', 'flux', 'ssnum'])\n",
    "array = np.array(data) "
   ]
  },
  {
   "cell_type": "code",
   "execution_count": 3,
   "metadata": {},
   "outputs": [],
   "source": [
    "# plt.plot(data['x'], data['y'])\n",
    "# plt.plot(array[0][:], array[1][:])\n",
    "# fyear = data['year'][0]\n",
    "# print(fyear)\n",
    "# lyear = data['year'][-1]\n",
    "# ycount = lyear - fyear\n",
    "\n",
    "# print(array[0][0], array[-1][0])\n",
    "# ycount = array[-1][0] - array[0][0]\n",
    "# print('ycount', ycount)\n",
    "\n",
    "# pdata = np.zeros(ycount, 2)\n",
    "# print('data', data)"
   ]
  },
  {
   "cell_type": "code",
   "execution_count": null,
   "metadata": {},
   "outputs": [],
   "source": [
    "pdata = []\n",
    "\n",
    "grouped = data.groupby('year')\n",
    "# print(grouped)\n",
    "\n",
    "for gi in grouped:\n",
    "    num = np.array(gi)\n",
    "    \n",
    "    print(gi)"
   ]
  },
  {
   "cell_type": "code",
   "execution_count": 8,
   "metadata": {},
   "outputs": [
    {
     "name": "stdout",
     "output_type": "stream",
     "text": [
      "<pandas.core.groupby.groupby.DataFrameGroupBy object at 0x7eff567873c8>\n"
     ]
    }
   ],
   "source": [
    "\n",
    "    sm = gi.mean()\n",
    "#     print(np.sum(gi), np.sum(gi[1]), np.sum(gi[2]))\n",
    "#     pdata.append(pd.DataFrame.mean(gi, 2))\n",
    "\n",
    "# groped.mean()\n",
    "\n"
   ]
  },
  {
   "cell_type": "code",
   "execution_count": null,
   "metadata": {},
   "outputs": [],
   "source": [
    "print(pdata)\n",
    "# grouped[0]"
   ]
  },
  {
   "cell_type": "code",
   "execution_count": 24,
   "metadata": {},
   "outputs": [
    {
     "name": "stdout",
     "output_type": "stream",
     "text": [
      "[ 0  7  1  8  2  9  3 10  4 11]\n",
      "xxx [0 7 1 8 2] 0 2 3 2\n",
      "3 8 6.0\n",
      "xxx [7 1 8 2 9] 7 9 4 2\n",
      "4 2 3.25\n",
      "xxx [1 8 2 9 3] 1 3 5 2\n",
      "5 9 7.0\n",
      "xxx [ 8  2  9  3 10] 8 10 6 2\n",
      "6 3 4.25\n",
      "xxx [ 2  9  3 10  4] 2 4 7 2\n",
      "7 10 8.0\n"
     ]
    }
   ],
   "source": [
    "\n",
    "# arr = range(10)\n",
    "arr = np.array(range(10)) * 7 % 13\n",
    "print(arr)\n",
    "\n",
    "def mean(a, i, n):\n",
    "        print('xxx', a[i-n-1:i+n], a[i-n-1], a[i+n-1], i, n)\n",
    "        n2 = n * 2\n",
    "        return np.sum(a[i-n:i+n-1])/ n2 + (a[i-n] + a[i+n])/4/n\n",
    "\n",
    "def running_mean(arr, wide):\n",
    "    n = arr.shape[0]\n",
    "    for i in range(wide+1, n - wide):\n",
    "        res = mean(arr, i, wide)\n",
    "        print(i, arr[i], res)\n",
    "        \n",
    "    \n",
    "# mean(arr, 3, 2)\n",
    "\n",
    "running_mean(arr, 2)\n",
    "# arr = np.zeros(25)\n",
    "# arr"
   ]
  },
  {
   "cell_type": "code",
   "execution_count": null,
   "metadata": {},
   "outputs": [],
   "source": []
  }
 ],
 "metadata": {
  "kernelspec": {
   "display_name": "Python 3",
   "language": "python",
   "name": "python3"
  },
  "language_info": {
   "codemirror_mode": {
    "name": "ipython",
    "version": 3
   },
   "file_extension": ".py",
   "mimetype": "text/x-python",
   "name": "python",
   "nbconvert_exporter": "python",
   "pygments_lexer": "ipython3",
   "version": "3.7.3"
  }
 },
 "nbformat": 4,
 "nbformat_minor": 2
}
